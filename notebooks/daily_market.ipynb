{
 "cells": [
  {
   "cell_type": "code",
   "execution_count": 1,
   "id": "8a4e59b5-6416-4233-8c49-867c1d9b9d15",
   "metadata": {},
   "outputs": [],
   "source": [
    "%load_ext autoreload\n",
    "%autoreload 2\n",
    "\n",
    "import logging\n",
    "import os\n",
    "import ta\n",
    "import numpy as np\n",
    "import pandas as pd\n",
    "\n",
    "wd = os.path.abspath(\"__file__\").replace(\"/__file__\", \"\").replace(\"notebooks\", \"\")\n",
    "os.chdir(wd)\n",
    "\n",
    "from datetime import datetime, timedelta, date\n",
    "from logging.handlers import TimedRotatingFileHandler\n",
    "from src.utils import get_jinja_yaml_conf, create_db_engine, Clickhouse_client, Postgres_connect\n",
    "from tqdm.auto import tqdm\n",
    "\n",
    "now = datetime.now()"
   ]
  },
  {
   "cell_type": "code",
   "execution_count": 2,
   "id": "4fc5b1cd-2170-4f96-8e51-0ee4d703f584",
   "metadata": {},
   "outputs": [],
   "source": [
    "conf = get_jinja_yaml_conf('./conf/logging.yml', './conf/data.yml')\n",
    "tqdm.pandas()\n",
    "\n",
    "# logger 설정\n",
    "stream = logging.StreamHandler()\n",
    "# stream.setLevel(logging.DEBUG)\n",
    "logger = logging.getLogger('main')\n",
    "logging.basicConfig(level=eval(conf['logging']['level']),\n",
    "    format=conf['logging']['format'],\n",
    "    handlers = [TimedRotatingFileHandler(filename =  conf['logging']['file_name'],\n",
    "                                when=conf['logging']['when'],\n",
    "                                interval=conf['logging']['interval'],\n",
    "                                backupCount=conf['logging']['backupCount']), \n",
    "                                   stream]\n",
    "                )"
   ]
  },
  {
   "cell_type": "code",
   "execution_count": 3,
   "id": "e1cd985e-adbd-48a2-9bf5-2a7b81b8ca56",
   "metadata": {},
   "outputs": [],
   "source": [
    "# Only for notebooks\n",
    "import re\n",
    "\n",
    "os.environ['_ts'] = datetime.astimezone(datetime.now()).strftime('%Y-%m-%d %H:%M:%S %z')\n",
    "\n",
    "with open('./conf/credentials', \"r\") as file:\n",
    "    # 각 라인 읽기\n",
    "    for line in file:\n",
    "        # 주석(#) 또는 빈 줄은 무시\n",
    "        if line.strip() == '' or line.startswith('#'):\n",
    "            continue\n",
    "\n",
    "        # 각 라인을 '='를 기준으로 key와 value로 분리\n",
    "        key, value = line.strip().split('=', 1)\n",
    "\n",
    "        # $ENV 형식의 환경변수가 있을 경우 해당 값을 가져와서 설정\n",
    "        env_var_pattern = re.compile(r'\\$(\\w+)')\n",
    "        matches = env_var_pattern.findall(value)\n",
    "        for match in matches:\n",
    "            value = value.replace(f\"${match}\", os.environ.get(match, \"\")).replace('\"', '')\n",
    "\n",
    "        # 환경변수로 설정\n",
    "        os.environ[key] = value\n",
    "\n",
    "os.environ['full_save'] = 'false'"
   ]
  },
  {
   "cell_type": "code",
   "execution_count": 4,
   "id": "c28af2f2-4ddc-46ad-85e3-8dbdd3dc37f5",
   "metadata": {},
   "outputs": [
    {
     "name": "stderr",
     "output_type": "stream",
     "text": [
      "2024-08-27 09:11:16,852 (utils.py 60) INFO ::: Connect to 172.20.10.3. DB_NAME is stocks\n",
      "2024-08-27 09:11:16,858 (utils.py 396) INFO ::: sql execute: SELECT COUNT(*) FROM stocks.daily_market FINAL\n"
     ]
    }
   ],
   "source": [
    "# DB 설정\n",
    "engine = create_db_engine(os.environ)\n",
    "postgres_conn = Postgres_connect(engine)\n",
    "click_conn = Clickhouse_client(user_name = os.environ['CLICK_USER'], password = os.environ['CLICK_PW'])\n",
    "full_save = True if click_conn.get_count('stocks', 'daily_market') == 0 else os.environ['full_save'].lower() == 'true'"
   ]
  },
  {
   "cell_type": "code",
   "execution_count": 5,
   "id": "92fe83a6-e15d-4c21-bdb9-ae9442aba48f",
   "metadata": {},
   "outputs": [
    {
     "name": "stderr",
     "output_type": "stream",
     "text": [
      "2024-08-27 09:11:22,915 (utils.py 396) INFO ::: sql execute: SELECT MAX(`기준일자`) \n",
      "                                FROM stocks.daily_market \n"
     ]
    },
    {
     "ename": "IndexError",
     "evalue": "index 0 is out of bounds for axis 0 with size 0",
     "output_type": "error",
     "traceback": [
      "\u001b[0;31m---------------------------------------------------------------------------\u001b[0m",
      "\u001b[0;31mIndexError\u001b[0m                                Traceback (most recent call last)",
      "Cell \u001b[0;32mIn[5], line 21\u001b[0m\n\u001b[1;32m     16\u001b[0m upload_date \u001b[38;5;241m=\u001b[39m market_dates[\u001b[38;5;241m0\u001b[39m] \u001b[38;5;28;01mif\u001b[39;00m full_save \u001b[38;5;28;01melse\u001b[39;00m latest_market_date \u001b[38;5;241m+\u001b[39m timedelta(days \u001b[38;5;241m=\u001b[39m \u001b[38;5;241m1\u001b[39m)\n\u001b[1;32m     17\u001b[0m \u001b[38;5;66;03m# if upload_date > market_dates[-1]:\u001b[39;00m\n\u001b[1;32m     18\u001b[0m \u001b[38;5;66;03m#     logger.info(\"Latest market information is uploaded already.\")\u001b[39;00m\n\u001b[1;32m     19\u001b[0m \u001b[38;5;66;03m#     return \u001b[39;00m\n\u001b[0;32m---> 21\u001b[0m start_idx \u001b[38;5;241m=\u001b[39m \u001b[43mnp\u001b[49m\u001b[38;5;241;43m.\u001b[39;49m\u001b[43mwhere\u001b[49m\u001b[43m(\u001b[49m\u001b[43mmarket_dates\u001b[49m\u001b[43m \u001b[49m\u001b[38;5;241;43m==\u001b[39;49m\u001b[43m \u001b[49m\u001b[43mupload_date\u001b[49m\u001b[43m)\u001b[49m\u001b[43m[\u001b[49m\u001b[38;5;241;43m0\u001b[39;49m\u001b[43m]\u001b[49m\u001b[43m[\u001b[49m\u001b[38;5;241;43m0\u001b[39;49m\u001b[43m]\u001b[49m \u001b[38;5;241m-\u001b[39m \u001b[38;5;28mmax\u001b[39m(conf[\u001b[38;5;124m'\u001b[39m\u001b[38;5;124magg_days\u001b[39m\u001b[38;5;124m'\u001b[39m])\n\u001b[1;32m     22\u001b[0m start_date \u001b[38;5;241m=\u001b[39m market_dates[\u001b[38;5;241m0\u001b[39m] \u001b[38;5;28;01mif\u001b[39;00m start_idx \u001b[38;5;241m<\u001b[39m \u001b[38;5;241m0\u001b[39m \u001b[38;5;28;01melse\u001b[39;00m market_dates[start_idx]\n\u001b[1;32m     24\u001b[0m logger\u001b[38;5;241m.\u001b[39minfo(\u001b[38;5;124mf\u001b[39m\u001b[38;5;124m\"\u001b[39m\u001b[38;5;124mUpload from date: \u001b[39m\u001b[38;5;132;01m{\u001b[39;00mupload_date\u001b[38;5;132;01m}\u001b[39;00m\u001b[38;5;124m. For preprocessing, load date from \u001b[39m\u001b[38;5;132;01m{\u001b[39;00mstart_date\u001b[38;5;132;01m}\u001b[39;00m\u001b[38;5;124m.\u001b[39m\u001b[38;5;124m\"\u001b[39m)\n",
      "\u001b[0;31mIndexError\u001b[0m: index 0 is out of bounds for axis 0 with size 0"
     ]
    }
   ],
   "source": [
    "# 마켓 정보 가져오기\n",
    "market_info = postgres_conn.get_data(conf['idx_market']['database'], conf['idx_market']['table'], \n",
    "                                columns = '*',\n",
    "                                  orderby_cols = ['기준일자', '계열구분', '지수명']).rename(columns = {'대비': '전일대비', '등락률': '수익률', '상장시가총액': '시가총액'})\n",
    "    \n",
    "\n",
    "market_dates = market_info['기준일자'].sort_values().unique()\n",
    "\n",
    "# 처리할 날짜 설정\n",
    "latest_market_date = pd.to_datetime(\n",
    "                        click_conn.get_maxmin_col(conf['daily_market']['database'], conf['daily_market']['table'], \n",
    "                            column = '기준일자', is_min = False)[0]\n",
    "    ).date()\n",
    "\n",
    "\n",
    "upload_date = market_dates[0] if full_save else latest_market_date + timedelta(days = 1)\n",
    "# if upload_date > market_dates[-1]:\n",
    "#     logger.info(\"Latest market information is uploaded already.\")\n",
    "#     return \n",
    "\n",
    "start_idx = np.where(market_dates >= upload_date)[0][0] - max(conf['agg_days'])\n",
    "start_date = market_dates[0] if start_idx < 0 else market_dates[start_idx]\n",
    "\n",
    "logger.info(f\"Upload from date: {upload_date}. For preprocessing, load date from {start_date}.\")\n",
    "\n"
   ]
  },
  {
   "cell_type": "markdown",
   "id": "b9f3cd67-97a8-48e6-a51b-612aa8400f97",
   "metadata": {},
   "source": [
    "### full_save 관련"
   ]
  },
  {
   "cell_type": "code",
   "execution_count": 18,
   "id": "632e51cc-c85b-4b6b-99ab-32952d13a421",
   "metadata": {},
   "outputs": [
    {
     "name": "stderr",
     "output_type": "stream",
     "text": [
      "2024-08-21 22:51:13,027 (3291581262.py 2) INFO ::: Calculates market additional indicator.\n",
      "2024-08-21 22:51:13,028 (3291581262.py 5) INFO ::: aggregating process of 5days starts!\n"
     ]
    },
    {
     "data": {
      "application/vnd.jupyter.widget-view+json": {
       "model_id": "433bdb044f344b93bb1a2b89208154e7",
       "version_major": 2,
       "version_minor": 0
      },
      "text/plain": [
       "0it [00:00, ?it/s]"
      ]
     },
     "metadata": {},
     "output_type": "display_data"
    },
    {
     "name": "stderr",
     "output_type": "stream",
     "text": [
      "2024-08-21 22:51:16,363 (3291581262.py 5) INFO ::: aggregating process of 20days starts!\n"
     ]
    },
    {
     "data": {
      "application/vnd.jupyter.widget-view+json": {
       "model_id": "18f491dc41e14660958800d3588cda84",
       "version_major": 2,
       "version_minor": 0
      },
      "text/plain": [
       "0it [00:00, ?it/s]"
      ]
     },
     "metadata": {},
     "output_type": "display_data"
    },
    {
     "name": "stderr",
     "output_type": "stream",
     "text": [
      "2024-08-21 22:51:19,695 (3291581262.py 5) INFO ::: aggregating process of 60days starts!\n"
     ]
    },
    {
     "data": {
      "application/vnd.jupyter.widget-view+json": {
       "model_id": "35e7a6156bb14189ac3430b329de5605",
       "version_major": 2,
       "version_minor": 0
      },
      "text/plain": [
       "0it [00:00, ?it/s]"
      ]
     },
     "metadata": {},
     "output_type": "display_data"
    },
    {
     "name": "stderr",
     "output_type": "stream",
     "text": [
      "2024-08-21 22:51:23,133 (3291581262.py 5) INFO ::: aggregating process of 120days starts!\n"
     ]
    },
    {
     "data": {
      "application/vnd.jupyter.widget-view+json": {
       "model_id": "ddd58ca445964c028c88e8fd916f99af",
       "version_major": 2,
       "version_minor": 0
      },
      "text/plain": [
       "0it [00:00, ?it/s]"
      ]
     },
     "metadata": {},
     "output_type": "display_data"
    },
    {
     "name": "stderr",
     "output_type": "stream",
     "text": [
      "2024-08-21 22:51:26,452 (3291581262.py 5) INFO ::: aggregating process of 240days starts!\n"
     ]
    },
    {
     "data": {
      "application/vnd.jupyter.widget-view+json": {
       "model_id": "0bd48cea94fe49e4a855f34142c8bffc",
       "version_major": 2,
       "version_minor": 0
      },
      "text/plain": [
       "0it [00:00, ?it/s]"
      ]
     },
     "metadata": {},
     "output_type": "display_data"
    },
    {
     "name": "stderr",
     "output_type": "stream",
     "text": [
      "2024-08-21 22:51:29,758 (3291581262.py 5) INFO ::: aggregating process of 720days starts!\n"
     ]
    },
    {
     "data": {
      "application/vnd.jupyter.widget-view+json": {
       "model_id": "901c43fd6d794efb9ac47b71ceaa40f3",
       "version_major": 2,
       "version_minor": 0
      },
      "text/plain": [
       "0it [00:00, ?it/s]"
      ]
     },
     "metadata": {},
     "output_type": "display_data"
    },
    {
     "data": {
      "application/vnd.jupyter.widget-view+json": {
       "model_id": "74e777c2c5fb4e7a9d152abe1ed1e751",
       "version_major": 2,
       "version_minor": 0
      },
      "text/plain": [
       "  0%|          | 0/351 [00:00<?, ?it/s]"
      ]
     },
     "metadata": {},
     "output_type": "display_data"
    },
    {
     "data": {
      "application/vnd.jupyter.widget-view+json": {
       "model_id": "bfc14259d6994153ac4cb56e885497cb",
       "version_major": 2,
       "version_minor": 0
      },
      "text/plain": [
       "  0%|          | 0/351 [00:00<?, ?it/s]"
      ]
     },
     "metadata": {},
     "output_type": "display_data"
    },
    {
     "data": {
      "application/vnd.jupyter.widget-view+json": {
       "model_id": "52568549104e4725a9a56d1d3fe4aef4",
       "version_major": 2,
       "version_minor": 0
      },
      "text/plain": [
       "  0%|          | 0/351 [00:00<?, ?it/s]"
      ]
     },
     "metadata": {},
     "output_type": "display_data"
    },
    {
     "data": {
      "application/vnd.jupyter.widget-view+json": {
       "model_id": "ada7e9905e0941d8ae0cb6e4b73b173f",
       "version_major": 2,
       "version_minor": 0
      },
      "text/plain": [
       "  0%|          | 0/351 [00:00<?, ?it/s]"
      ]
     },
     "metadata": {},
     "output_type": "display_data"
    },
    {
     "data": {
      "application/vnd.jupyter.widget-view+json": {
       "model_id": "9da6de9765134f5981cffb9a4315f5f1",
       "version_major": 2,
       "version_minor": 0
      },
      "text/plain": [
       "  0%|          | 0/351 [00:00<?, ?it/s]"
      ]
     },
     "metadata": {},
     "output_type": "display_data"
    },
    {
     "data": {
      "application/vnd.jupyter.widget-view+json": {
       "model_id": "65c8536b38f24df6825fef97f5f290c3",
       "version_major": 2,
       "version_minor": 0
      },
      "text/plain": [
       "  0%|          | 0/351 [00:00<?, ?it/s]"
      ]
     },
     "metadata": {},
     "output_type": "display_data"
    },
    {
     "data": {
      "application/vnd.jupyter.widget-view+json": {
       "model_id": "fbb0f53ed05846d38056f328c5281db4",
       "version_major": 2,
       "version_minor": 0
      },
      "text/plain": [
       "  0%|          | 0/351 [00:00<?, ?it/s]"
      ]
     },
     "metadata": {},
     "output_type": "display_data"
    },
    {
     "name": "stderr",
     "output_type": "stream",
     "text": [
      "/tmp/ipykernel_9312/3291581262.py:82: PerformanceWarning: DataFrame is highly fragmented.  This is usually the result of calling `frame.insert` many times, which has poor performance.  Consider joining all columns at once using pd.concat(axis=1) instead. To get a de-fragmented frame, use `newframe = frame.copy()`\n",
      "  market_info['Bband_Cross'] = 0\n"
     ]
    },
    {
     "data": {
      "text/html": [
       "<div>\n",
       "<style scoped>\n",
       "    .dataframe tbody tr th:only-of-type {\n",
       "        vertical-align: middle;\n",
       "    }\n",
       "\n",
       "    .dataframe tbody tr th {\n",
       "        vertical-align: top;\n",
       "    }\n",
       "\n",
       "    .dataframe thead th {\n",
       "        text-align: right;\n",
       "    }\n",
       "</style>\n",
       "<table border=\"1\" class=\"dataframe\">\n",
       "  <thead>\n",
       "    <tr style=\"text-align: right;\">\n",
       "      <th></th>\n",
       "      <th>_ts</th>\n",
       "      <th>기준일자</th>\n",
       "      <th>계열구분</th>\n",
       "      <th>지수명</th>\n",
       "      <th>종가</th>\n",
       "      <th>전일대비</th>\n",
       "      <th>수익률</th>\n",
       "      <th>시가</th>\n",
       "      <th>고가</th>\n",
       "      <th>저가</th>\n",
       "      <th>...</th>\n",
       "      <th>fastD</th>\n",
       "      <th>slowK</th>\n",
       "      <th>slowD</th>\n",
       "      <th>mavg</th>\n",
       "      <th>up</th>\n",
       "      <th>dn</th>\n",
       "      <th>MACD_Cross</th>\n",
       "      <th>Stoch_Fast_Cross</th>\n",
       "      <th>Stoch_Slow_Cross</th>\n",
       "      <th>Bband_Cross</th>\n",
       "    </tr>\n",
       "  </thead>\n",
       "  <tbody>\n",
       "    <tr>\n",
       "      <th>0</th>\n",
       "      <td>2024-08-21 22:51:03 +0900</td>\n",
       "      <td>2010-01-04</td>\n",
       "      <td>KOSDAQ</td>\n",
       "      <td>IT H/W</td>\n",
       "      <td>504.75</td>\n",
       "      <td>22.02</td>\n",
       "      <td>4.56</td>\n",
       "      <td>487.15</td>\n",
       "      <td>504.75</td>\n",
       "      <td>487.15</td>\n",
       "      <td>...</td>\n",
       "      <td>NaN</td>\n",
       "      <td>NaN</td>\n",
       "      <td>NaN</td>\n",
       "      <td>NaN</td>\n",
       "      <td>NaN</td>\n",
       "      <td>NaN</td>\n",
       "      <td>NaN</td>\n",
       "      <td>NaN</td>\n",
       "      <td>NaN</td>\n",
       "      <td>NaN</td>\n",
       "    </tr>\n",
       "    <tr>\n",
       "      <th>1</th>\n",
       "      <td>2024-08-21 22:51:03 +0900</td>\n",
       "      <td>2010-01-04</td>\n",
       "      <td>KOSDAQ</td>\n",
       "      <td>IT S/W &amp; SVC</td>\n",
       "      <td>1652.15</td>\n",
       "      <td>73.78</td>\n",
       "      <td>4.67</td>\n",
       "      <td>1596.00</td>\n",
       "      <td>1652.15</td>\n",
       "      <td>1595.77</td>\n",
       "      <td>...</td>\n",
       "      <td>NaN</td>\n",
       "      <td>NaN</td>\n",
       "      <td>NaN</td>\n",
       "      <td>NaN</td>\n",
       "      <td>NaN</td>\n",
       "      <td>NaN</td>\n",
       "      <td>NaN</td>\n",
       "      <td>NaN</td>\n",
       "      <td>NaN</td>\n",
       "      <td>NaN</td>\n",
       "    </tr>\n",
       "    <tr>\n",
       "      <th>2</th>\n",
       "      <td>2024-08-21 22:51:03 +0900</td>\n",
       "      <td>2010-01-04</td>\n",
       "      <td>KOSDAQ</td>\n",
       "      <td>IT부품</td>\n",
       "      <td>908.40</td>\n",
       "      <td>43.10</td>\n",
       "      <td>4.98</td>\n",
       "      <td>871.89</td>\n",
       "      <td>908.40</td>\n",
       "      <td>871.59</td>\n",
       "      <td>...</td>\n",
       "      <td>NaN</td>\n",
       "      <td>NaN</td>\n",
       "      <td>NaN</td>\n",
       "      <td>NaN</td>\n",
       "      <td>NaN</td>\n",
       "      <td>NaN</td>\n",
       "      <td>NaN</td>\n",
       "      <td>NaN</td>\n",
       "      <td>NaN</td>\n",
       "      <td>NaN</td>\n",
       "    </tr>\n",
       "    <tr>\n",
       "      <th>3</th>\n",
       "      <td>2024-08-21 22:51:03 +0900</td>\n",
       "      <td>2010-01-04</td>\n",
       "      <td>KOSDAQ</td>\n",
       "      <td>건설</td>\n",
       "      <td>94.41</td>\n",
       "      <td>-0.27</td>\n",
       "      <td>-0.29</td>\n",
       "      <td>95.60</td>\n",
       "      <td>95.64</td>\n",
       "      <td>94.16</td>\n",
       "      <td>...</td>\n",
       "      <td>NaN</td>\n",
       "      <td>NaN</td>\n",
       "      <td>NaN</td>\n",
       "      <td>NaN</td>\n",
       "      <td>NaN</td>\n",
       "      <td>NaN</td>\n",
       "      <td>NaN</td>\n",
       "      <td>NaN</td>\n",
       "      <td>NaN</td>\n",
       "      <td>NaN</td>\n",
       "    </tr>\n",
       "    <tr>\n",
       "      <th>4</th>\n",
       "      <td>2024-08-21 22:51:03 +0900</td>\n",
       "      <td>2010-01-04</td>\n",
       "      <td>KOSDAQ</td>\n",
       "      <td>금속</td>\n",
       "      <td>4010.20</td>\n",
       "      <td>36.86</td>\n",
       "      <td>0.93</td>\n",
       "      <td>3965.25</td>\n",
       "      <td>4011.09</td>\n",
       "      <td>3959.84</td>\n",
       "      <td>...</td>\n",
       "      <td>NaN</td>\n",
       "      <td>NaN</td>\n",
       "      <td>NaN</td>\n",
       "      <td>NaN</td>\n",
       "      <td>NaN</td>\n",
       "      <td>NaN</td>\n",
       "      <td>NaN</td>\n",
       "      <td>NaN</td>\n",
       "      <td>NaN</td>\n",
       "      <td>NaN</td>\n",
       "    </tr>\n",
       "    <tr>\n",
       "      <th>...</th>\n",
       "      <td>...</td>\n",
       "      <td>...</td>\n",
       "      <td>...</td>\n",
       "      <td>...</td>\n",
       "      <td>...</td>\n",
       "      <td>...</td>\n",
       "      <td>...</td>\n",
       "      <td>...</td>\n",
       "      <td>...</td>\n",
       "      <td>...</td>\n",
       "      <td>...</td>\n",
       "      <td>...</td>\n",
       "      <td>...</td>\n",
       "      <td>...</td>\n",
       "      <td>...</td>\n",
       "      <td>...</td>\n",
       "      <td>...</td>\n",
       "      <td>...</td>\n",
       "      <td>...</td>\n",
       "      <td>...</td>\n",
       "      <td>...</td>\n",
       "    </tr>\n",
       "    <tr>\n",
       "      <th>729848</th>\n",
       "      <td>2024-08-21 22:51:03 +0900</td>\n",
       "      <td>2024-08-20</td>\n",
       "      <td>전략지수</td>\n",
       "      <td>코스피200 롱 100% 코스닥150 숏 50% 선물지수</td>\n",
       "      <td>1326.75</td>\n",
       "      <td>8.66</td>\n",
       "      <td>0.66</td>\n",
       "      <td>1331.88</td>\n",
       "      <td>1334.33</td>\n",
       "      <td>1324.22</td>\n",
       "      <td>...</td>\n",
       "      <td>61.024787</td>\n",
       "      <td>61.024787</td>\n",
       "      <td>59.839971</td>\n",
       "      <td>1318.9910</td>\n",
       "      <td>1381.165496</td>\n",
       "      <td>1256.816504</td>\n",
       "      <td>0.0</td>\n",
       "      <td>-1.0</td>\n",
       "      <td>0.0</td>\n",
       "      <td>0.0</td>\n",
       "    </tr>\n",
       "    <tr>\n",
       "      <th>729849</th>\n",
       "      <td>2024-08-21 22:51:03 +0900</td>\n",
       "      <td>2024-08-20</td>\n",
       "      <td>전략지수</td>\n",
       "      <td>코스피200 코스닥150 고정비중 3:7 지수</td>\n",
       "      <td>1492.82</td>\n",
       "      <td>14.64</td>\n",
       "      <td>0.99</td>\n",
       "      <td>1494.18</td>\n",
       "      <td>1496.84</td>\n",
       "      <td>1485.88</td>\n",
       "      <td>...</td>\n",
       "      <td>59.594163</td>\n",
       "      <td>59.594163</td>\n",
       "      <td>54.313824</td>\n",
       "      <td>1471.4870</td>\n",
       "      <td>1580.361903</td>\n",
       "      <td>1362.612097</td>\n",
       "      <td>0.0</td>\n",
       "      <td>0.0</td>\n",
       "      <td>0.0</td>\n",
       "      <td>0.0</td>\n",
       "    </tr>\n",
       "    <tr>\n",
       "      <th>729850</th>\n",
       "      <td>2024-08-21 22:51:03 +0900</td>\n",
       "      <td>2024-08-20</td>\n",
       "      <td>전략지수</td>\n",
       "      <td>코스피200 코스닥150 고정비중 5:5 레버리지 지수</td>\n",
       "      <td>1038.81</td>\n",
       "      <td>19.84</td>\n",
       "      <td>1.95</td>\n",
       "      <td>1040.83</td>\n",
       "      <td>1044.00</td>\n",
       "      <td>1030.12</td>\n",
       "      <td>...</td>\n",
       "      <td>55.297341</td>\n",
       "      <td>55.297341</td>\n",
       "      <td>49.037547</td>\n",
       "      <td>1022.5155</td>\n",
       "      <td>1185.482197</td>\n",
       "      <td>859.548803</td>\n",
       "      <td>0.0</td>\n",
       "      <td>0.0</td>\n",
       "      <td>0.0</td>\n",
       "      <td>0.0</td>\n",
       "    </tr>\n",
       "    <tr>\n",
       "      <th>729851</th>\n",
       "      <td>2024-08-21 22:51:03 +0900</td>\n",
       "      <td>2024-08-20</td>\n",
       "      <td>전략지수</td>\n",
       "      <td>코스피200 코스닥150 고정비중 5:5 지수</td>\n",
       "      <td>1577.20</td>\n",
       "      <td>15.28</td>\n",
       "      <td>0.98</td>\n",
       "      <td>1578.75</td>\n",
       "      <td>1581.18</td>\n",
       "      <td>1570.54</td>\n",
       "      <td>...</td>\n",
       "      <td>68.636100</td>\n",
       "      <td>68.636100</td>\n",
       "      <td>59.079655</td>\n",
       "      <td>1555.0580</td>\n",
       "      <td>1670.932416</td>\n",
       "      <td>1439.183584</td>\n",
       "      <td>0.0</td>\n",
       "      <td>0.0</td>\n",
       "      <td>0.0</td>\n",
       "      <td>0.0</td>\n",
       "    </tr>\n",
       "    <tr>\n",
       "      <th>729852</th>\n",
       "      <td>2024-08-21 22:51:03 +0900</td>\n",
       "      <td>2024-08-20</td>\n",
       "      <td>전략지수</td>\n",
       "      <td>코스피200 코스닥150 고정비중 7:3 지수</td>\n",
       "      <td>1632.21</td>\n",
       "      <td>15.63</td>\n",
       "      <td>0.97</td>\n",
       "      <td>1633.91</td>\n",
       "      <td>1637.08</td>\n",
       "      <td>1625.89</td>\n",
       "      <td>...</td>\n",
       "      <td>74.159122</td>\n",
       "      <td>74.159122</td>\n",
       "      <td>67.434401</td>\n",
       "      <td>1609.8210</td>\n",
       "      <td>1731.142761</td>\n",
       "      <td>1488.499239</td>\n",
       "      <td>0.0</td>\n",
       "      <td>0.0</td>\n",
       "      <td>0.0</td>\n",
       "      <td>0.0</td>\n",
       "    </tr>\n",
       "  </tbody>\n",
       "</table>\n",
       "<p>729853 rows × 112 columns</p>\n",
       "</div>"
      ],
      "text/plain": [
       "                              _ts        기준일자    계열구분  \\\n",
       "0       2024-08-21 22:51:03 +0900  2010-01-04  KOSDAQ   \n",
       "1       2024-08-21 22:51:03 +0900  2010-01-04  KOSDAQ   \n",
       "2       2024-08-21 22:51:03 +0900  2010-01-04  KOSDAQ   \n",
       "3       2024-08-21 22:51:03 +0900  2010-01-04  KOSDAQ   \n",
       "4       2024-08-21 22:51:03 +0900  2010-01-04  KOSDAQ   \n",
       "...                           ...         ...     ...   \n",
       "729848  2024-08-21 22:51:03 +0900  2024-08-20    전략지수   \n",
       "729849  2024-08-21 22:51:03 +0900  2024-08-20    전략지수   \n",
       "729850  2024-08-21 22:51:03 +0900  2024-08-20    전략지수   \n",
       "729851  2024-08-21 22:51:03 +0900  2024-08-20    전략지수   \n",
       "729852  2024-08-21 22:51:03 +0900  2024-08-20    전략지수   \n",
       "\n",
       "                                    지수명       종가   전일대비   수익률       시가  \\\n",
       "0                                IT H/W   504.75  22.02  4.56   487.15   \n",
       "1                          IT S/W & SVC  1652.15  73.78  4.67  1596.00   \n",
       "2                                  IT부품   908.40  43.10  4.98   871.89   \n",
       "3                                    건설    94.41  -0.27 -0.29    95.60   \n",
       "4                                    금속  4010.20  36.86  0.93  3965.25   \n",
       "...                                 ...      ...    ...   ...      ...   \n",
       "729848  코스피200 롱 100% 코스닥150 숏 50% 선물지수  1326.75   8.66  0.66  1331.88   \n",
       "729849        코스피200 코스닥150 고정비중 3:7 지수  1492.82  14.64  0.99  1494.18   \n",
       "729850   코스피200 코스닥150 고정비중 5:5 레버리지 지수  1038.81  19.84  1.95  1040.83   \n",
       "729851        코스피200 코스닥150 고정비중 5:5 지수  1577.20  15.28  0.98  1578.75   \n",
       "729852        코스피200 코스닥150 고정비중 7:3 지수  1632.21  15.63  0.97  1633.91   \n",
       "\n",
       "             고가       저가  ...      fastD      slowK      slowD       mavg  \\\n",
       "0        504.75   487.15  ...        NaN        NaN        NaN        NaN   \n",
       "1       1652.15  1595.77  ...        NaN        NaN        NaN        NaN   \n",
       "2        908.40   871.59  ...        NaN        NaN        NaN        NaN   \n",
       "3         95.64    94.16  ...        NaN        NaN        NaN        NaN   \n",
       "4       4011.09  3959.84  ...        NaN        NaN        NaN        NaN   \n",
       "...         ...      ...  ...        ...        ...        ...        ...   \n",
       "729848  1334.33  1324.22  ...  61.024787  61.024787  59.839971  1318.9910   \n",
       "729849  1496.84  1485.88  ...  59.594163  59.594163  54.313824  1471.4870   \n",
       "729850  1044.00  1030.12  ...  55.297341  55.297341  49.037547  1022.5155   \n",
       "729851  1581.18  1570.54  ...  68.636100  68.636100  59.079655  1555.0580   \n",
       "729852  1637.08  1625.89  ...  74.159122  74.159122  67.434401  1609.8210   \n",
       "\n",
       "                 up           dn  MACD_Cross  Stoch_Fast_Cross  \\\n",
       "0               NaN          NaN         NaN               NaN   \n",
       "1               NaN          NaN         NaN               NaN   \n",
       "2               NaN          NaN         NaN               NaN   \n",
       "3               NaN          NaN         NaN               NaN   \n",
       "4               NaN          NaN         NaN               NaN   \n",
       "...             ...          ...         ...               ...   \n",
       "729848  1381.165496  1256.816504         0.0              -1.0   \n",
       "729849  1580.361903  1362.612097         0.0               0.0   \n",
       "729850  1185.482197   859.548803         0.0               0.0   \n",
       "729851  1670.932416  1439.183584         0.0               0.0   \n",
       "729852  1731.142761  1488.499239         0.0               0.0   \n",
       "\n",
       "        Stoch_Slow_Cross  Bband_Cross  \n",
       "0                    NaN          NaN  \n",
       "1                    NaN          NaN  \n",
       "2                    NaN          NaN  \n",
       "3                    NaN          NaN  \n",
       "4                    NaN          NaN  \n",
       "...                  ...          ...  \n",
       "729848               0.0          0.0  \n",
       "729849               0.0          0.0  \n",
       "729850               0.0          0.0  \n",
       "729851               0.0          0.0  \n",
       "729852               0.0          0.0  \n",
       "\n",
       "[729853 rows x 112 columns]"
      ]
     },
     "execution_count": 18,
     "metadata": {},
     "output_type": "execute_result"
    }
   ],
   "source": [
    "# 이평선 관련\n",
    "logger.info(\"Calculates market additional indicator.\")\n",
    "group_info = market_info.groupby(['계열구분', '지수명'])\n",
    "for day in conf['agg_days']:\n",
    "    logger.info(f\"aggregating process of {day}days starts!\")\n",
    "    ## 종가\n",
    "    # 이평\n",
    "    market_info[f'종가_이평{day}일'] = group_info['종가'].rolling(window=day).mean().reset_index(level = [0, 1]).iloc[:, -1]\n",
    "    # 괴리율\n",
    "    market_info[f'종가_이평{day}일_괴리율'] = market_info['종가'] / market_info[f'종가_이평{day}일'] * 100\n",
    "\n",
    "    ## 거래량\n",
    "    # 이평\n",
    "    market_info[f'거래량_이평{day}일'] = group_info['거래량'].rolling(window=day).mean().reset_index(level = [0, 1]).iloc[:, -1]\n",
    "    # 합\n",
    "    market_info[f'거래량_합{day}일'] = group_info['거래량'].rolling(window=day).sum().reset_index(level = [0, 1]).iloc[:, -1]\n",
    "    \n",
    "    ## 시총이평\n",
    "    market_info[f'시총_이평{day}일'] = group_info['시가총액'].rolling(window=day).mean().reset_index(level = [0, 1]).iloc[:, -1]\n",
    "    # 거래대금이평\n",
    "    market_info[f'거래대금_이평{day}일'] = group_info['거래대금'].rolling(window=day).mean().reset_index(level = [0, 1]).iloc[:, -1]\n",
    "    # 거래대금 합\n",
    "    market_info[f'거래대금_합{day}일'] = group_info['거래대금'].rolling(window=day).sum().reset_index(level = [0, 1]).iloc[:, -1]\n",
    "    \n",
    "    ## 수익률\n",
    "    # 이평\n",
    "    market_info[f\"수익률{day}일\"] = group_info['수익률'].rolling(day).progress_apply(lambda x: ((1+x/100).prod() - 1) * 100, raw = True).reset_index(level = [0, 1]).iloc[:, -1]\n",
    "    # 변동성\n",
    "    market_info[f'수익률_변동성{day}일'] = group_info['수익률'].rolling(window=day).std().reset_index(level = [0, 1]).iloc[:, -1]\n",
    "    # 이평 연율화\n",
    "    market_info[f'수익률{day}일_연율화'] = ((1 + market_info[f\"수익률{day}일\"] / 100) ** (240 / 720) - 1) * 100\n",
    "    # 변동성 연율화\n",
    "    market_info[f'수익률_변동성{day}일_연율화'] = market_info[f'수익률_변동성{day}일'] / np.sqrt(240)\n",
    "    # sr 연율화\n",
    "    market_info[f'SR_{day}일_연율화'] =  market_info[f'수익률{day}일_연율화'] / market_info[f'수익률_변동성{day}일_연율화']\n",
    "\n",
    "# n일 최고/최저가\n",
    "for day in conf['high_low_days']:\n",
    "    market_info[f'최고가{day}일'] = group_info['고가'].rolling(window=day).max().reset_index(level = [0, 1]).iloc[:, -1]\n",
    "    market_info[f'최저가{day}일'] = group_info['저가'].rolling(window=day).min().reset_index(level = [0, 1]).iloc[:, -1]\n",
    "    # 괴리율\n",
    "    market_info[f'최고가{day}일_괴리율'] = market_info['종가'] / market_info[f'최고가{day}일'] * 100\n",
    "    market_info[f'최저가{day}일_괴리율'] = market_info['종가'] / market_info[f'최저가{day}일'] * 100\n",
    "\n",
    "\n",
    "# 거래량\n",
    "market_info[f'거래량1일_증가율'] = market_info.apply(lambda x: np.nan if x['거래량_이평20일'] == 0 else x['거래량'] / x['거래량_이평20일'], axis = 1)\n",
    "market_info[f'거래량5일_증가율'] = market_info.apply(lambda x: np.nan if x['거래량_이평20일'] == 0 else x['거래량_이평5일'] / x['거래량_이평20일'], axis = 1)\n",
    "\n",
    "# 거래대금시총비율\n",
    "market_info[f'거래대금_시총비율_1일'] = market_info[f'거래대금'] / market_info[f'시가총액'] * 100\n",
    "market_info[f'거래대금_시총비율_5일'] = market_info[f'거래대금_이평5일'] / market_info[f'시총_이평5일'] * 100\n",
    "\n",
    "# 거래대금증가율\n",
    "market_info[f'거래대금_전일대비_증가율'] = market_info[f'거래대금'] / group_info['거래대금'].shift(1) * 100\n",
    "market_info[f'거래대금_5일이평대비_증가율'] = market_info[f'거래대금'] / market_info[f'거래대금_이평5일'] * 100\n",
    "\n",
    "# 기술적 지표 생성\n",
    "market_info['MACD'] = group_info.progress_apply(lambda x: ta.trend.macd(close = x['종가'], window_slow = 26, window_fast = 12)).reset_index(level = [0, 1]).iloc[:, -1]\n",
    "market_info['MACD_signal'] = group_info.progress_apply(lambda x: ta.trend.macd_signal(close = x['종가'], window_slow = 26, window_fast = 12, window_sign = 9)).reset_index(level = [0, 1]).iloc[:, -1]\n",
    "market_info['MACD_diff_signal'] = market_info['MACD'] - market_info['MACD_signal']\n",
    "market_info['RSI'] = group_info.progress_apply(lambda x: ta.momentum.rsi(close = x['종가'], window = 14)).reset_index(level = [0, 1]).iloc[:, -1]\n",
    "\n",
    "# Stochastic\n",
    "market_info['fastK'] = group_info.progress_apply(lambda x: ta.momentum.stoch(high = x['고가'], low = x['저가'], close = x['종가'], window=14, smooth_window=1)).reset_index(drop = True)\n",
    "market_info['fastD'] = market_info.groupby(['계열구분', '지수명'])['fastK'].rolling(window=3).mean().reset_index(level = [0, 1]).iloc[:, -1]\n",
    "market_info['slowK'] = market_info['fastD'].copy()\n",
    "market_info['slowD'] = market_info.groupby(['계열구분', '지수명'])['slowK'].rolling(window=3).mean().reset_index(level = [0, 1]).iloc[:, -1]\n",
    "\n",
    "\n",
    "# 볼린저밴드\n",
    "market_info['mavg'] = group_info.progress_apply(lambda x: ta.volatility.bollinger_mavg(close = x['종가'], window = 20)).reset_index(level = [0, 1]).iloc[:, -1]\n",
    "market_info['up'] = group_info.progress_apply(lambda x: ta.volatility.bollinger_hband(close = x['종가'], window = 20, window_dev = 2)).reset_index(level = [0, 1]).iloc[:, -1]\n",
    "market_info['dn'] = group_info.progress_apply(lambda x: ta.volatility.bollinger_lband(close = x['종가'], window = 20, window_dev = 2)).reset_index(level = [0, 1]).iloc[:, -1]\n",
    "\n",
    "# 골든 데드\n",
    "for cross_name, cross_cols in conf['tech_signal'].items():\n",
    "    market_info[cross_name] = 0\n",
    "    left = market_info.groupby(['계열구분', '지수명'])[cross_cols[0]]\n",
    "    right = market_info.groupby(['계열구분', '지수명'])[cross_cols[1]]\n",
    "    market_info.loc[(left.shift(1) <= right.shift(1)) & (left.shift(0) > right.shift(0)), cross_name] = 1 \n",
    "    market_info.loc[(left.shift(1) >= right.shift(1)) & (left.shift(0) < right.shift(0)), cross_name] = -1\n",
    "    market_info.loc[market_info[cross_cols[0]].isnull() | market_info[cross_cols[1]].isnull(), cross_name] = np.nan\n",
    "\n",
    "market_info['Bband_Cross'] = 0\n",
    "left = market_info.groupby(['계열구분', '지수명'])['종가']\n",
    "right = market_info.groupby(['계열구분', '지수명'])['up']\n",
    "market_info.loc[(left.shift(1) <= right.shift(1)) & (left.shift(0) > right.shift(0)) & (market_info['up'] > market_info['mavg'] * 1.15), 'Bband_Cross'] = 1\n",
    "right = market_info.groupby(['계열구분', '지수명'])['dn']\n",
    "market_info.loc[(left.shift(1) >= right.shift(1)) & (left.shift(0) < right.shift(0)) & (market_info['dn'] > market_info['mavg'] * 1.15), 'Bband_Cross'] = -1\n",
    "market_info.loc[market_info['up'].isnull() | market_info['dn'].isnull() | market_info['mavg'].isnull(), 'Bband_Cross'] = np.nan\n",
    "\n",
    "# 그외 전처리\n",
    "market_info['_ts'] = os.environ['_ts']\n",
    "market_info = market_info[market_info['기준일자'] >= upload_date].copy()"
   ]
  },
  {
   "cell_type": "code",
   "execution_count": 19,
   "id": "b2725fab-4071-43ae-b564-10205e5d03f6",
   "metadata": {},
   "outputs": [
    {
     "name": "stderr",
     "output_type": "stream",
     "text": [
      "2024-08-21 22:51:49,920 (utils.py 326) INFO ::: df insert to db starts!, schema: stocks, table: daily_market.\n",
      "2024-08-21 22:51:49,920 (utils.py 284) INFO ::: data processing is started!\n",
      "2024-08-21 22:51:49,920 (utils.py 396) INFO ::: sql execute: DESCRIBE TABLE stocks.daily_market\n",
      "2024-08-21 22:55:34,946 (utils.py 396) INFO ::: sql execute: SELECT sorting_key FROM system.tables WHERE name = 'daily_market' AND database = 'stocks'\n",
      "2024-08-21 22:55:34,949 (utils.py 305) INFO ::: data processing is finished.\n",
      "2024-08-21 22:56:09,448 (utils.py 337) INFO ::: data insert is processing (729853/729853).\n",
      "2024-08-21 22:56:09,449 (utils.py 339) INFO ::: data insert is finished.\n"
     ]
    },
    {
     "data": {
      "text/plain": [
       "729853"
      ]
     },
     "execution_count": 19,
     "metadata": {},
     "output_type": "execute_result"
    }
   ],
   "source": [
    "# 데이터 업로드\n",
    "click_conn.df_insert(market_info, conf['daily_market']['database'], conf['daily_market']['table'])"
   ]
  }
 ],
 "metadata": {
  "kernelspec": {
   "display_name": "Python 3 (ipykernel)",
   "language": "python",
   "name": "python3"
  },
  "language_info": {
   "codemirror_mode": {
    "name": "ipython",
    "version": 3
   },
   "file_extension": ".py",
   "mimetype": "text/x-python",
   "name": "python",
   "nbconvert_exporter": "python",
   "pygments_lexer": "ipython3",
   "version": "3.12.2"
  }
 },
 "nbformat": 4,
 "nbformat_minor": 5
}
